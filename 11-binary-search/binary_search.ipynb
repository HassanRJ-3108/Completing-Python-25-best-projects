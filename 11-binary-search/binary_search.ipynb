{
 "cells": [
  {
   "cell_type": "markdown",
   "id": "faec7ebb",
   "metadata": {},
   "source": [
    "# Binary Search Algorithm"
   ]
  },
  {
   "cell_type": "code",
   "execution_count": 8,
   "id": "0ae04ecf",
   "metadata": {},
   "outputs": [
    {
     "name": "stdout",
     "output_type": "stream",
     "text": [
      "6\n",
      "10\n"
     ]
    }
   ],
   "source": [
    "# Implementing binary search algorithm\n",
    "\n",
    "def binary_search(l, target):\n",
    "    \"\"\"Binary Search Algorithm\n",
    "    This function implements the binary search algorithm to find the index of a target value in a sorted list.\n",
    "\n",
    "    Args:\n",
    "        l (list): Sorted list of integers where the search is performed.\n",
    "        target (int): The target value to search for in the list.\n",
    "\n",
    "    Returns:\n",
    "        int: The index of the target value if found, otherwise -1.\n",
    "    \"\"\"\n",
    "    st, end = 0, len(l) - 1  # Initialize start and end pointers\n",
    "    while st <= end:\n",
    "        midpoint = (st + end) // 2  # Calculate the midpoint\n",
    "        if l[midpoint] == target:\n",
    "            return midpoint  # Target found\n",
    "        elif l[midpoint] < target:\n",
    "            st = midpoint + 1  # Move the start pointer to the right\n",
    "        else:\n",
    "            end = midpoint - 1  # Move the end pointer to the left\n",
    "    return -1  # Target not found in the list\n",
    "\n",
    "\n",
    "l = [1, 3, 5, 6, 8, 9, 10, 30, 40, 55]\n",
    "target = 10 # Example Target value\n",
    "# Using the existing variables `l` and `target`\n",
    "result = binary_search(l, target)\n",
    "print(result)\n",
    "print(l[result])\n"
   ]
  }
 ],
 "metadata": {
  "kernelspec": {
   "display_name": "Python 3",
   "language": "python",
   "name": "python3"
  },
  "language_info": {
   "codemirror_mode": {
    "name": "ipython",
    "version": 3
   },
   "file_extension": ".py",
   "mimetype": "text/x-python",
   "name": "python",
   "nbconvert_exporter": "python",
   "pygments_lexer": "ipython3",
   "version": "3.12.9"
  }
 },
 "nbformat": 4,
 "nbformat_minor": 5
}
